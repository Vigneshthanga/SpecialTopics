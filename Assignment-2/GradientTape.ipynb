{
  "nbformat": 4,
  "nbformat_minor": 0,
  "metadata": {
    "colab": {
      "name": "GradientTape.ipynb",
      "provenance": [],
      "authorship_tag": "ABX9TyO3s0ZGSdPfmcSyGzndaAhY",
      "include_colab_link": true
    },
    "kernelspec": {
      "name": "python3",
      "display_name": "Python 3"
    },
    "accelerator": "GPU"
  },
  "cells": [
    {
      "cell_type": "markdown",
      "metadata": {
        "id": "view-in-github",
        "colab_type": "text"
      },
      "source": [
        "<a href=\"https://colab.research.google.com/github/Vigneshthanga/SpecialTopics/blob/master/Assignment-2/GradientTape.ipynb\" target=\"_parent\"><img src=\"https://colab.research.google.com/assets/colab-badge.svg\" alt=\"Open In Colab\"/></a>"
      ]
    },
    {
      "cell_type": "markdown",
      "metadata": {
        "id": "vxltb5wD9-fQ",
        "colab_type": "text"
      },
      "source": [
        "## Import tensorflow "
      ]
    },
    {
      "cell_type": "code",
      "metadata": {
        "id": "Shpr9wHHIt4w",
        "colab_type": "code",
        "colab": {}
      },
      "source": [
        "import tensorflow as tf"
      ],
      "execution_count": 11,
      "outputs": []
    },
    {
      "cell_type": "markdown",
      "metadata": {
        "id": "4b_V_Q1v-oNn",
        "colab_type": "text"
      },
      "source": [
        "## Input and Output dimension"
      ]
    },
    {
      "cell_type": "code",
      "metadata": {
        "id": "XK9NzlHhG5oY",
        "colab_type": "code",
        "colab": {}
      },
      "source": [
        "input_dim = 2\n",
        "output_dim = 1\n",
        "learning_rate = 0.01"
      ],
      "execution_count": 12,
      "outputs": []
    },
    {
      "cell_type": "markdown",
      "metadata": {
        "id": "8TPBVa98-tl6",
        "colab_type": "text"
      },
      "source": [
        "## Random Weight Tensor"
      ]
    },
    {
      "cell_type": "code",
      "metadata": {
        "id": "xxU1-DgiIp4H",
        "colab_type": "code",
        "colab": {}
      },
      "source": [
        "weights = tf.random.uniform(shape=(input_dim, output_dim))\n",
        "w = tf.Variable(weights)"
      ],
      "execution_count": 13,
      "outputs": []
    },
    {
      "cell_type": "markdown",
      "metadata": {
        "id": "OkyEfLXN-zgO",
        "colab_type": "text"
      },
      "source": [
        "## Random Bias Tensor"
      ]
    },
    {
      "cell_type": "code",
      "metadata": {
        "id": "P01f1evjJX3V",
        "colab_type": "code",
        "colab": {}
      },
      "source": [
        "bias = tf.random.uniform(shape=(output_dim,))\n",
        "b = tf.Variable(bias)"
      ],
      "execution_count": 14,
      "outputs": []
    },
    {
      "cell_type": "markdown",
      "metadata": {
        "id": "-Q0_byOW-49O",
        "colab_type": "text"
      },
      "source": [
        "## Function definition to get Predictions"
      ]
    },
    {
      "cell_type": "code",
      "metadata": {
        "id": "Aj6ez1tLIrpx",
        "colab_type": "code",
        "colab": {}
      },
      "source": [
        "def getPredictions(x):\n",
        "  ret = tf.matmul(x, w) + b\n",
        "  return ret"
      ],
      "execution_count": 15,
      "outputs": []
    },
    {
      "cell_type": "markdown",
      "metadata": {
        "id": "2-qsz0tv_A0-",
        "colab_type": "text"
      },
      "source": [
        "## Function definition to get Loss"
      ]
    },
    {
      "cell_type": "code",
      "metadata": {
        "id": "TgqcMgWiKkE_",
        "colab_type": "code",
        "colab": {}
      },
      "source": [
        "def getLoss(actual, y):\n",
        "  return tf.reduce_mean(tf.square(actual-y))"
      ],
      "execution_count": 16,
      "outputs": []
    },
    {
      "cell_type": "markdown",
      "metadata": {
        "id": "vk0bFPiR_Dpt",
        "colab_type": "text"
      },
      "source": [
        "## Function to train"
      ]
    },
    {
      "cell_type": "code",
      "metadata": {
        "id": "b7FFOzOgBIa2",
        "colab_type": "code",
        "colab": {}
      },
      "source": [
        "def train(x, actual):\n",
        "  with tf.GradientTape() as tape:\n",
        "    pred = getPredictions(x)\n",
        "    loss = getLoss(actual, pred)\n",
        "    dloss_dw, dloss_db = tape.gradient(loss, [w,b])\n",
        "  w.assign_sub(learning_rate * dloss_dw)\n",
        "  b.assign_sub(learning_rate * dloss_db)\n",
        "  return loss"
      ],
      "execution_count": 17,
      "outputs": []
    },
    {
      "cell_type": "markdown",
      "metadata": {
        "id": "JAFrAVoY_Frj",
        "colab_type": "text"
      },
      "source": [
        "## Function annotated with tf.function. This is used for optimization"
      ]
    },
    {
      "cell_type": "code",
      "metadata": {
        "id": "TrQ9jMmeLjt9",
        "colab_type": "code",
        "colab": {}
      },
      "source": [
        "@tf.function\n",
        "def train_with_optimization(x, actual):\n",
        "  with tf.GradientTape() as tape:\n",
        "    pred = getPredictions(x)\n",
        "    #print(pred)\n",
        "    loss = getLoss(actual, pred)\n",
        "    dloss_dw, dloss_db = tape.gradient(loss, [w,b])\n",
        "  w.assign_sub(learning_rate * dloss_dw)\n",
        "  b.assign_sub(learning_rate * dloss_db)\n",
        "  return loss"
      ],
      "execution_count": 18,
      "outputs": []
    },
    {
      "cell_type": "markdown",
      "metadata": {
        "id": "NnZN8eN4_NAV",
        "colab_type": "text"
      },
      "source": [
        "## Visualizing the data in scatter plot"
      ]
    },
    {
      "cell_type": "code",
      "metadata": {
        "id": "PoZkDRr8N9-l",
        "colab_type": "code",
        "colab": {
          "base_uri": "https://localhost:8080/",
          "height": 282
        },
        "outputId": "eb28eeb0-d453-44e7-ee25-0e82b02669e6"
      },
      "source": [
        "import numpy as np\n",
        "import random\n",
        "import matplotlib.pyplot as plt\n",
        "%matplotlib inline\n",
        "\n",
        "n = 10000\n",
        "neg_samples = np.random.multivariate_normal(mean = [0,3], cov = [[1,0.5], [0.5,1]], size=n)\n",
        "pos_samples = np.random.multivariate_normal(mean = [3,0], cov=[[1,0.5], [0.5,1]], size=n)\n",
        "features = np.vstack((neg_samples, pos_samples)).astype(np.float32)\n",
        "labels = np.vstack((np.zeros((n, 1), dtype='float32'),np.ones((n, 1), dtype='float32')))\n",
        "plt.scatter(features[:, 0], features[:, 1], c=labels[:,0])"
      ],
      "execution_count": 19,
      "outputs": [
        {
          "output_type": "execute_result",
          "data": {
            "text/plain": [
              "<matplotlib.collections.PathCollection at 0x7f1c02b52438>"
            ]
          },
          "metadata": {
            "tags": []
          },
          "execution_count": 19
        },
        {
          "output_type": "display_data",
          "data": {
            "image/png": "[encoded data removed]",
            "text/plain": [
              "<Figure size 432x288 with 1 Axes>"
            ]
          },
          "metadata": {
            "tags": [],
            "needs_background": "light"
          }
        }
      ]
    },
    {
      "cell_type": "markdown",
      "metadata": {
        "id": "KfGw3Vli_SJ4",
        "colab_type": "text"
      },
      "source": [
        "## Profiling using time library"
      ]
    },
    {
      "cell_type": "code",
      "metadata": {
        "id": "FUE6bB7V_7_X",
        "colab_type": "code",
        "colab": {}
      },
      "source": [
        "import time"
      ],
      "execution_count": 20,
      "outputs": []
    },
    {
      "cell_type": "markdown",
      "metadata": {
        "id": "WdFCHaGy_bIt",
        "colab_type": "text"
      },
      "source": [
        "## Model Training without optmization"
      ]
    },
    {
      "cell_type": "code",
      "metadata": {
        "id": "paToazuLuAym",
        "colab_type": "code",
        "colab": {
          "base_uri": "https://localhost:8080/",
          "height": 225
        },
        "outputId": "6b4e8124-0ada-447b-c061-c24819fe6bfa"
      },
      "source": [
        "indices = np.random.permutation(len(features))\n",
        "features = features[indices]\n",
        "labels = labels[indices]\n",
        "print(labels.shape)\n",
        "dataset = tf.data.Dataset.from_tensor_slices((features, labels))\n",
        "dataset = dataset.shuffle(buffer_size=1024).batch(256)\n",
        "\n",
        "t0 = time.time()\n",
        "for epoch in range(10):\n",
        "  for step, (x,y) in enumerate(dataset):\n",
        "    loss = train(x,y)\n",
        "  print('Epoch %d: last batch loss = %.4f' % (epoch, float(loss)))\n",
        "t1 = time.time()\n",
        "\n",
        "print('time to run is %.3f sec' % (t1-t0))"
      ],
      "execution_count": 21,
      "outputs": [
        {
          "output_type": "stream",
          "text": [
            "(20000, 1)\n",
            "Epoch 0: last batch loss = 0.0200\n",
            "Epoch 1: last batch loss = 0.0534\n",
            "Epoch 2: last batch loss = 0.0313\n",
            "Epoch 3: last batch loss = 0.0227\n",
            "Epoch 4: last batch loss = 0.0137\n",
            "Epoch 5: last batch loss = 0.0222\n",
            "Epoch 6: last batch loss = 0.0323\n",
            "Epoch 7: last batch loss = 0.0295\n",
            "Epoch 8: last batch loss = 0.0250\n",
            "Epoch 9: last batch loss = 0.0248\n",
            "time to run is 1.708 sec\n"
          ],
          "name": "stdout"
        }
      ]
    },
    {
      "cell_type": "markdown",
      "metadata": {
        "id": "QBz7-Vdq_kPf",
        "colab_type": "text"
      },
      "source": [
        "## Model Training with optmization"
      ]
    },
    {
      "cell_type": "code",
      "metadata": {
        "id": "lv5I1Yy6BTmC",
        "colab_type": "code",
        "colab": {
          "base_uri": "https://localhost:8080/",
          "height": 208
        },
        "outputId": "7630c6d4-4757-4102-c4c9-5cb586d0c366"
      },
      "source": [
        "t0 = time.time()\n",
        "for epoch in range(10):\n",
        "  for step, (x,y) in enumerate(dataset):\n",
        "    loss = train_with_optimization(x,y)\n",
        "  print('Epoch %d: last batch loss = %.4f' % (epoch, float(loss)))\n",
        "t1 = time.time()\n",
        "\n",
        "print('time to run is %.3f sec' % (t1-t0))"
      ],
      "execution_count": 22,
      "outputs": [
        {
          "output_type": "stream",
          "text": [
            "Epoch 0: last batch loss = 0.0140\n",
            "Epoch 1: last batch loss = 0.0354\n",
            "Epoch 2: last batch loss = 0.0159\n",
            "Epoch 3: last batch loss = 0.0339\n",
            "Epoch 4: last batch loss = 0.0200\n",
            "Epoch 5: last batch loss = 0.0167\n",
            "Epoch 6: last batch loss = 0.0166\n",
            "Epoch 7: last batch loss = 0.0254\n",
            "Epoch 8: last batch loss = 0.0187\n",
            "Epoch 9: last batch loss = 0.0224\n",
            "time to run is 1.008 sec\n"
          ],
          "name": "stdout"
        }
      ]
    }
  ]
}