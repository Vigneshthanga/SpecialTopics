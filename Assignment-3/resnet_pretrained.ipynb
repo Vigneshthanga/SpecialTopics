{
  "nbformat": 4,
  "nbformat_minor": 0,
  "metadata": {
    "colab": {
      "name": "resnet_pretrained.ipynb",
      "provenance": [],
      "authorship_tag": "ABX9TyP58IscUBNvudnRBY9BZ5SR",
      "include_colab_link": true
    },
    "kernelspec": {
      "name": "python3",
      "display_name": "Python 3"
    },
    "accelerator": "GPU"
  },
  "cells": [
    {
      "cell_type": "markdown",
      "metadata": {
        "id": "view-in-github",
        "colab_type": "text"
      },
      "source": [
        "<a href=\"https://colab.research.google.com/github/Vigneshthanga/SpecialTopics/blob/master/Assignment-3/resnet_pretrained.ipynb\" target=\"_parent\"><img src=\"https://colab.research.google.com/assets/colab-badge.svg\" alt=\"Open In Colab\"/></a>"
      ]
    },
    {
      "cell_type": "markdown",
      "metadata": {
        "id": "8hXSSytOOgCK"
      },
      "source": [
        "## Import libraries"
      ]
    },
    {
      "cell_type": "code",
      "metadata": {
        "id": "J9Z5rEWtDvDI"
      },
      "source": [
        "import tensorflow as tf\n",
        "import tensorflow_hub as hub\n",
        "import tensorflow_datasets as tfds\n",
        "import matplotlib\n",
        "import matplotlib.pyplot as plt"
      ],
      "execution_count": 44,
      "outputs": []
    },
    {
      "cell_type": "markdown",
      "metadata": {
        "id": "KEH_u2eGOjnu"
      },
      "source": [
        "## Download flower dataset"
      ]
    },
    {
      "cell_type": "code",
      "metadata": {
        "id": "tHnRIJWsDqyG"
      },
      "source": [
        "data_dir = tf.keras.utils.get_file(\n",
        "    'flower_photos',\n",
        "    'https://storage.googleapis.com/download.tensorflow.org/example_images/flower_photos.tgz',\n",
        "    untar=True)"
      ],
      "execution_count": 45,
      "outputs": []
    },
    {
      "cell_type": "code",
      "metadata": {
        "id": "JNiaffMHEA9T"
      },
      "source": [
        "from tensorflow.keras.preprocessing import image_dataset_from_directory"
      ],
      "execution_count": 46,
      "outputs": []
    },
    {
      "cell_type": "code",
      "metadata": {
        "id": "z-1FrmYMECxL"
      },
      "source": [
        "BATCH_SIZE = 64"
      ],
      "execution_count": 47,
      "outputs": []
    },
    {
      "cell_type": "code",
      "metadata": {
        "id": "z65RpHmIEEqo",
        "outputId": "38849ad9-55de-45bf-86ab-5101eba777ab",
        "colab": {
          "base_uri": "https://localhost:8080/",
          "height": 34
        }
      },
      "source": [
        "IMG_SIZE = (224, 224)\n",
        "train_dataset = image_dataset_from_directory(data_dir,\n",
        "                                             shuffle=True,\n",
        "                                             batch_size=BATCH_SIZE,\n",
        "                                             image_size=IMG_SIZE)"
      ],
      "execution_count": 48,
      "outputs": [
        {
          "output_type": "stream",
          "text": [
            "Found 3670 files belonging to 5 classes.\n"
          ],
          "name": "stdout"
        }
      ]
    },
    {
      "cell_type": "markdown",
      "metadata": {
        "id": "sJd_rpbZOx9C"
      },
      "source": [
        "## Defining datagen and dataflow"
      ]
    },
    {
      "cell_type": "code",
      "metadata": {
        "id": "wb0xVsHIEHIY"
      },
      "source": [
        "datagen_kwargs = dict(rescale=1./255, validation_split=.20)\n",
        "dataflow_kwargs = dict(target_size=IMG_SIZE, batch_size=BATCH_SIZE,\n",
        "                   interpolation=\"bilinear\")"
      ],
      "execution_count": 49,
      "outputs": []
    },
    {
      "cell_type": "markdown",
      "metadata": {
        "id": "KTiHAHDJO3Uh"
      },
      "source": [
        "## Valid datagen"
      ]
    },
    {
      "cell_type": "code",
      "metadata": {
        "id": "Uu1a0nzwEI9m",
        "outputId": "7ca02776-7a9d-4a2c-9935-a9a3cf0e48a6",
        "colab": {
          "base_uri": "https://localhost:8080/",
          "height": 34
        }
      },
      "source": [
        "valid_datagen = tf.keras.preprocessing.image.ImageDataGenerator(\n",
        "    **datagen_kwargs)\n",
        "valid_generator = valid_datagen.flow_from_directory(\n",
        "    data_dir, subset=\"validation\", shuffle=False, **dataflow_kwargs)"
      ],
      "execution_count": 50,
      "outputs": [
        {
          "output_type": "stream",
          "text": [
            "Found 731 images belonging to 5 classes.\n"
          ],
          "name": "stdout"
        }
      ]
    },
    {
      "cell_type": "markdown",
      "metadata": {
        "id": "5C4WVrDDO5MH"
      },
      "source": [
        "## Train datagen "
      ]
    },
    {
      "cell_type": "code",
      "metadata": {
        "id": "L4pceiJUEK93",
        "outputId": "2a5c644c-c390-487b-bfd6-164b3a8a73d3",
        "colab": {
          "base_uri": "https://localhost:8080/",
          "height": 34
        }
      },
      "source": [
        "train_datagen = valid_datagen\n",
        "train_generator = train_datagen.flow_from_directory(\n",
        "    data_dir, subset=\"training\", shuffle=True, **dataflow_kwargs)"
      ],
      "execution_count": 51,
      "outputs": [
        {
          "output_type": "stream",
          "text": [
            "Found 2939 images belonging to 5 classes.\n"
          ],
          "name": "stdout"
        }
      ]
    },
    {
      "cell_type": "code",
      "metadata": {
        "id": "k8VDD1roEOj5"
      },
      "source": [
        "IMG_SHAPE = IMG_SIZE + (3,)\n",
        "base_model = tf.keras.applications.ResNet50(input_shape=IMG_SHAPE,\n",
        "                                               include_top=False,\n",
        "                                               weights='imagenet')\n"
      ],
      "execution_count": 52,
      "outputs": []
    },
    {
      "cell_type": "code",
      "metadata": {
        "id": "Td2qjvmrEQyp",
        "outputId": "29a404b7-dde0-4652-c755-9e9ae46f096a",
        "colab": {
          "base_uri": "https://localhost:8080/",
          "height": 34
        }
      },
      "source": [
        "image_batch, label_batch = next(iter(train_dataset))\n",
        "feature_batch = base_model(image_batch)\n",
        "print(feature_batch.shape)"
      ],
      "execution_count": 53,
      "outputs": [
        {
          "output_type": "stream",
          "text": [
            "(64, 7, 7, 2048)\n"
          ],
          "name": "stdout"
        }
      ]
    },
    {
      "cell_type": "code",
      "metadata": {
        "id": "xUONhyXsEdQ6"
      },
      "source": [
        "base_model.trainable = False"
      ],
      "execution_count": 54,
      "outputs": []
    },
    {
      "cell_type": "markdown",
      "metadata": {
        "id": "9G51VOqPO_Oa"
      },
      "source": [
        "## Adding custom layers"
      ]
    },
    {
      "cell_type": "code",
      "metadata": {
        "id": "Iy3oON4xEq-q",
        "outputId": "e9b92a75-64de-49f4-fb88-d7a7ce7c8d76",
        "colab": {
          "base_uri": "https://localhost:8080/",
          "height": 34
        }
      },
      "source": [
        "global_average_layer = tf.keras.layers.GlobalAveragePooling2D()\n",
        "feature_batch_average = global_average_layer(feature_batch)\n",
        "print(feature_batch_average.shape)"
      ],
      "execution_count": 55,
      "outputs": [
        {
          "output_type": "stream",
          "text": [
            "(64, 2048)\n"
          ],
          "name": "stdout"
        }
      ]
    },
    {
      "cell_type": "code",
      "metadata": {
        "id": "eAS0W0OBEu5K",
        "outputId": "0026be31-a5f9-4f0b-ce4f-71dcfbbeac5d",
        "colab": {
          "base_uri": "https://localhost:8080/",
          "height": 34
        }
      },
      "source": [
        "prediction_layer = tf.keras.layers.Dense(1)\n",
        "prediction_batch = prediction_layer(feature_batch_average)\n",
        "print(prediction_batch.shape)"
      ],
      "execution_count": 56,
      "outputs": [
        {
          "output_type": "stream",
          "text": [
            "(64, 1)\n"
          ],
          "name": "stdout"
        }
      ]
    },
    {
      "cell_type": "markdown",
      "metadata": {
        "id": "aEHUo0ffPHO8"
      },
      "source": [
        "## Defining new model and on top of base model"
      ]
    },
    {
      "cell_type": "code",
      "metadata": {
        "id": "6PLECV-IEygC"
      },
      "source": [
        "inputs = tf.keras.Input(shape=(224, 224, 3))\n",
        "x = tf.keras.applications.resnet.preprocess_input(inputs)\n",
        "x = base_model(x, training=False)\n",
        "x = global_average_layer(x)\n",
        "x = tf.keras.layers.Dropout(0.2)(x)\n",
        "outputs = prediction_layer(x)\n",
        "model = tf.keras.Model(inputs, outputs)"
      ],
      "execution_count": 57,
      "outputs": []
    },
    {
      "cell_type": "code",
      "metadata": {
        "id": "V1xzjtQqF-cD"
      },
      "source": [
        "base_learning_rate = 0.0001\n",
        "model.compile(optimizer=tf.keras.optimizers.Adam(lr=base_learning_rate),\n",
        "              loss=tf.keras.losses.BinaryCrossentropy(from_logits=True),\n",
        "              metrics=['accuracy'])\n"
      ],
      "execution_count": 58,
      "outputs": []
    },
    {
      "cell_type": "code",
      "metadata": {
        "id": "6vCvAoYjGHTL",
        "outputId": "804652a8-8049-4449-bef8-8578b2260bd2",
        "colab": {
          "base_uri": "https://localhost:8080/",
          "height": 34
        }
      },
      "source": [
        "initial_epochs = 10\n",
        "loss0, accuracy0 = model.evaluate(valid_generator)"
      ],
      "execution_count": 59,
      "outputs": [
        {
          "output_type": "stream",
          "text": [
            "12/12 [==============================] - 3s 281ms/step - loss: 0.6780 - accuracy: 0.8000\n"
          ],
          "name": "stdout"
        }
      ]
    },
    {
      "cell_type": "markdown",
      "metadata": {
        "id": "fV5QmDbhPL8p"
      },
      "source": [
        "## Train the model freezing the base layers"
      ]
    },
    {
      "cell_type": "code",
      "metadata": {
        "id": "e10pL_UNHRrR",
        "outputId": "681dccf1-f0c1-471b-c0ee-a9e90b42efa4",
        "colab": {
          "base_uri": "https://localhost:8080/",
          "height": 364
        }
      },
      "source": [
        "history = model.fit(train_generator,\n",
        "                    epochs=initial_epochs,\n",
        "                    validation_data=valid_generator)"
      ],
      "execution_count": 60,
      "outputs": [
        {
          "output_type": "stream",
          "text": [
            "Epoch 1/10\n",
            "46/46 [==============================] - 20s 436ms/step - loss: 0.6062 - accuracy: 0.7880 - val_loss: 0.5276 - val_accuracy: 0.8000\n",
            "Epoch 2/10\n",
            "46/46 [==============================] - 19s 417ms/step - loss: 0.5268 - accuracy: 0.7998 - val_loss: 0.5022 - val_accuracy: 0.8000\n",
            "Epoch 3/10\n",
            "46/46 [==============================] - 19s 418ms/step - loss: 0.5153 - accuracy: 0.8000 - val_loss: 0.5007 - val_accuracy: 0.8000\n",
            "Epoch 4/10\n",
            "46/46 [==============================] - 19s 423ms/step - loss: 0.5139 - accuracy: 0.8000 - val_loss: 0.5008 - val_accuracy: 0.8000\n",
            "Epoch 5/10\n",
            "46/46 [==============================] - 19s 423ms/step - loss: 0.5132 - accuracy: 0.8000 - val_loss: 0.5008 - val_accuracy: 0.8000\n",
            "Epoch 6/10\n",
            "46/46 [==============================] - 19s 421ms/step - loss: 0.5139 - accuracy: 0.8000 - val_loss: 0.5008 - val_accuracy: 0.8000\n",
            "Epoch 7/10\n",
            "46/46 [==============================] - 19s 412ms/step - loss: 0.5129 - accuracy: 0.8000 - val_loss: 0.5008 - val_accuracy: 0.8000\n",
            "Epoch 8/10\n",
            "46/46 [==============================] - 19s 412ms/step - loss: 0.5118 - accuracy: 0.8000 - val_loss: 0.5008 - val_accuracy: 0.8000\n",
            "Epoch 9/10\n",
            "46/46 [==============================] - 19s 415ms/step - loss: 0.5110 - accuracy: 0.8000 - val_loss: 0.5007 - val_accuracy: 0.8000\n",
            "Epoch 10/10\n",
            "46/46 [==============================] - 19s 412ms/step - loss: 0.5111 - accuracy: 0.8000 - val_loss: 0.5007 - val_accuracy: 0.8000\n"
          ],
          "name": "stdout"
        }
      ]
    },
    {
      "cell_type": "markdown",
      "metadata": {
        "id": "UH8VBnD5PWjZ"
      },
      "source": [
        "## Unfreeze the base models"
      ]
    },
    {
      "cell_type": "code",
      "metadata": {
        "id": "LBBKuTDfKFUS"
      },
      "source": [
        "base_model.trainable = True"
      ],
      "execution_count": 61,
      "outputs": []
    },
    {
      "cell_type": "code",
      "metadata": {
        "id": "A1kiPRnAKVst",
        "outputId": "9f6ac10e-d69f-4271-9da2-36ede36aa989",
        "colab": {
          "base_uri": "https://localhost:8080/",
          "height": 34
        }
      },
      "source": [
        "# Let's take a look to see how many layers are in the base model\n",
        "print(\"Number of layers in the base model: \", len(base_model.layers))\n",
        "\n",
        "# Fine-tune from this layer onwards\n",
        "fine_tune_at = 100\n",
        "\n",
        "# Freeze all the layers before the `fine_tune_at` layer\n",
        "for layer in base_model.layers[:fine_tune_at]:\n",
        "  layer.trainable =  False"
      ],
      "execution_count": 62,
      "outputs": [
        {
          "output_type": "stream",
          "text": [
            "Number of layers in the base model:  175\n"
          ],
          "name": "stdout"
        }
      ]
    },
    {
      "cell_type": "code",
      "metadata": {
        "id": "3yCxvyT0KYoB"
      },
      "source": [
        "model.compile(loss=tf.keras.losses.BinaryCrossentropy(from_logits=True),\n",
        "              optimizer = tf.keras.optimizers.RMSprop(lr=base_learning_rate/10),\n",
        "              metrics=['accuracy'])\n"
      ],
      "execution_count": 63,
      "outputs": []
    },
    {
      "cell_type": "markdown",
      "metadata": {
        "id": "gHfUqexhPZb5"
      },
      "source": [
        "## Training after unfreezing"
      ]
    },
    {
      "cell_type": "code",
      "metadata": {
        "id": "VEkqGyGZKbuS",
        "outputId": "03a2e421-c5b2-4243-b12b-8b718b6f6dba",
        "colab": {
          "base_uri": "https://localhost:8080/",
          "height": 399
        }
      },
      "source": [
        "fine_tune_epochs = 10\n",
        "total_epochs =  initial_epochs + fine_tune_epochs\n",
        "\n",
        "history_fine = model.fit(train_generator,\n",
        "                         epochs=total_epochs,\n",
        "                         initial_epoch=history.epoch[-1],\n",
        "                         validation_data=valid_generator)"
      ],
      "execution_count": 64,
      "outputs": [
        {
          "output_type": "stream",
          "text": [
            "Epoch 10/20\n",
            "46/46 [==============================] - 23s 501ms/step - loss: 0.5091 - accuracy: 0.8000 - val_loss: 0.5018 - val_accuracy: 0.8000\n",
            "Epoch 11/20\n",
            "46/46 [==============================] - 21s 467ms/step - loss: 0.5029 - accuracy: 0.8000 - val_loss: 0.5012 - val_accuracy: 0.8000\n",
            "Epoch 12/20\n",
            "46/46 [==============================] - 22s 467ms/step - loss: 0.5019 - accuracy: 0.8000 - val_loss: 0.5004 - val_accuracy: 0.8000\n",
            "Epoch 13/20\n",
            "46/46 [==============================] - 22s 470ms/step - loss: 0.5015 - accuracy: 0.8000 - val_loss: 0.5014 - val_accuracy: 0.8000\n",
            "Epoch 14/20\n",
            "46/46 [==============================] - 22s 475ms/step - loss: 0.5014 - accuracy: 0.8000 - val_loss: 0.5007 - val_accuracy: 0.8000\n",
            "Epoch 15/20\n",
            "46/46 [==============================] - 22s 473ms/step - loss: 0.5012 - accuracy: 0.8000 - val_loss: 0.5004 - val_accuracy: 0.8000\n",
            "Epoch 16/20\n",
            "46/46 [==============================] - 22s 469ms/step - loss: 0.5012 - accuracy: 0.8000 - val_loss: 0.5007 - val_accuracy: 0.8000\n",
            "Epoch 17/20\n",
            "46/46 [==============================] - 21s 467ms/step - loss: 0.5011 - accuracy: 0.8000 - val_loss: 0.5006 - val_accuracy: 0.8000\n",
            "Epoch 18/20\n",
            "46/46 [==============================] - 22s 468ms/step - loss: 0.5010 - accuracy: 0.8000 - val_loss: 0.5005 - val_accuracy: 0.8000\n",
            "Epoch 19/20\n",
            "46/46 [==============================] - 22s 472ms/step - loss: 0.5009 - accuracy: 0.8000 - val_loss: 0.5008 - val_accuracy: 0.8000\n",
            "Epoch 20/20\n",
            "46/46 [==============================] - 22s 470ms/step - loss: 0.5010 - accuracy: 0.8000 - val_loss: 0.5011 - val_accuracy: 0.8000\n"
          ],
          "name": "stdout"
        }
      ]
    },
    {
      "cell_type": "markdown",
      "metadata": {
        "id": "2_jRNiyHPdJB"
      },
      "source": [
        "## Comparision between SIMCLR v2 and Resnet: Thus we can see the resnet models is easy to train and it achieves good accuracy sooner but it takes too many epochs to converge. But, SIM CLR v2 didn't achieve good accuracy initially but converges sooner than resent."
      ]
    }
  ]
}