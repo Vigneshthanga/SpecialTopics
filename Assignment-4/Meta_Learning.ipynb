{
  "nbformat": 4,
  "nbformat_minor": 0,
  "metadata": {
    "colab": {
      "name": "Meta-Learning.ipynb",
      "provenance": [],
      "collapsed_sections": [],
      "authorship_tag": "ABX9TyN0nvCm7N1XkrdV+ILSoypv",
      "include_colab_link": true
    },
    "kernelspec": {
      "name": "python3",
      "display_name": "Python 3"
    },
    "accelerator": "GPU"
  },
  "cells": [
    {
      "cell_type": "markdown",
      "metadata": {
        "id": "view-in-github",
        "colab_type": "text"
      },
      "source": [
        "<a href=\"https://colab.research.google.com/github/Vigneshthanga/SpecialTopics/blob/master/Assignment-4/Meta_Learning.ipynb\" target=\"_parent\"><img src=\"https://colab.research.google.com/assets/colab-badge.svg\" alt=\"Open In Colab\"/></a>"
      ]
    },
    {
      "cell_type": "markdown",
      "metadata": {
        "id": "jXiyLNRxYVZV"
      },
      "source": [
        "## Import libraries"
      ]
    },
    {
      "cell_type": "code",
      "metadata": {
        "id": "gE64PxzDZZ6x"
      },
      "source": [
        "import os\n",
        "import glob\n",
        "from PIL import Image\n",
        "import numpy as np"
      ],
      "execution_count": 1,
      "outputs": []
    },
    {
      "cell_type": "markdown",
      "metadata": {
        "id": "TRqzrDR0YZtS"
      },
      "source": [
        "## Import tensorflow v1"
      ]
    },
    {
      "cell_type": "code",
      "metadata": {
        "id": "SzjGzw7elRj6",
        "outputId": "ca8da1a1-e753-4cce-9d25-478c3ed5f3bb",
        "colab": {
          "base_uri": "https://localhost:8080/"
        }
      },
      "source": [
        "!pip install tensorflow==1.12.0\n",
        "import tensorflow as tf\n",
        "print(tf.__version__)"
      ],
      "execution_count": 2,
      "outputs": [
        {
          "output_type": "stream",
          "text": [
            "Collecting tensorflow==1.12.0\n",
            "\u001b[?25l  Downloading https://files.pythonhosted.org/packages/22/cc/ca70b78087015d21c5f3f93694107f34ebccb3be9624385a911d4b52ecef/tensorflow-1.12.0-cp36-cp36m-manylinux1_x86_64.whl (83.1MB)\n",
            "\u001b[K     |████████████████████████████████| 83.1MB 42kB/s \n",
            "\u001b[?25hRequirement already satisfied: wheel>=0.26 in /usr/local/lib/python3.6/dist-packages (from tensorflow==1.12.0) (0.35.1)\n",
            "Requirement already satisfied: grpcio>=1.8.6 in /usr/local/lib/python3.6/dist-packages (from tensorflow==1.12.0) (1.33.2)\n",
            "Requirement already satisfied: astor>=0.6.0 in /usr/local/lib/python3.6/dist-packages (from tensorflow==1.12.0) (0.8.1)\n",
            "Requirement already satisfied: six>=1.10.0 in /usr/local/lib/python3.6/dist-packages (from tensorflow==1.12.0) (1.15.0)\n",
            "Requirement already satisfied: numpy>=1.13.3 in /usr/local/lib/python3.6/dist-packages (from tensorflow==1.12.0) (1.18.5)\n",
            "Requirement already satisfied: termcolor>=1.1.0 in /usr/local/lib/python3.6/dist-packages (from tensorflow==1.12.0) (1.1.0)\n",
            "Requirement already satisfied: keras-preprocessing>=1.0.5 in /usr/local/lib/python3.6/dist-packages (from tensorflow==1.12.0) (1.1.2)\n",
            "Requirement already satisfied: gast>=0.2.0 in /usr/local/lib/python3.6/dist-packages (from tensorflow==1.12.0) (0.3.3)\n",
            "Requirement already satisfied: protobuf>=3.6.1 in /usr/local/lib/python3.6/dist-packages (from tensorflow==1.12.0) (3.12.4)\n",
            "Collecting tensorboard<1.13.0,>=1.12.0\n",
            "\u001b[?25l  Downloading https://files.pythonhosted.org/packages/07/53/8d32ce9471c18f8d99028b7cef2e5b39ea8765bd7ef250ca05b490880971/tensorboard-1.12.2-py3-none-any.whl (3.0MB)\n",
            "\u001b[K     |████████████████████████████████| 3.1MB 33.5MB/s \n",
            "\u001b[?25hCollecting keras-applications>=1.0.6\n",
            "\u001b[?25l  Downloading https://files.pythonhosted.org/packages/71/e3/19762fdfc62877ae9102edf6342d71b28fbfd9dea3d2f96a882ce099b03f/Keras_Applications-1.0.8-py3-none-any.whl (50kB)\n",
            "\u001b[K     |████████████████████████████████| 51kB 9.2MB/s \n",
            "\u001b[?25hRequirement already satisfied: absl-py>=0.1.6 in /usr/local/lib/python3.6/dist-packages (from tensorflow==1.12.0) (0.10.0)\n",
            "Requirement already satisfied: setuptools in /usr/local/lib/python3.6/dist-packages (from protobuf>=3.6.1->tensorflow==1.12.0) (50.3.2)\n",
            "Requirement already satisfied: werkzeug>=0.11.10 in /usr/local/lib/python3.6/dist-packages (from tensorboard<1.13.0,>=1.12.0->tensorflow==1.12.0) (1.0.1)\n",
            "Requirement already satisfied: markdown>=2.6.8 in /usr/local/lib/python3.6/dist-packages (from tensorboard<1.13.0,>=1.12.0->tensorflow==1.12.0) (3.3.3)\n",
            "Requirement already satisfied: h5py in /usr/local/lib/python3.6/dist-packages (from keras-applications>=1.0.6->tensorflow==1.12.0) (2.10.0)\n",
            "Requirement already satisfied: importlib-metadata; python_version < \"3.8\" in /usr/local/lib/python3.6/dist-packages (from markdown>=2.6.8->tensorboard<1.13.0,>=1.12.0->tensorflow==1.12.0) (2.0.0)\n",
            "Requirement already satisfied: zipp>=0.5 in /usr/local/lib/python3.6/dist-packages (from importlib-metadata; python_version < \"3.8\"->markdown>=2.6.8->tensorboard<1.13.0,>=1.12.0->tensorflow==1.12.0) (3.4.0)\n",
            "Installing collected packages: tensorboard, keras-applications, tensorflow\n",
            "  Found existing installation: tensorboard 2.3.0\n",
            "    Uninstalling tensorboard-2.3.0:\n",
            "      Successfully uninstalled tensorboard-2.3.0\n",
            "  Found existing installation: tensorflow 2.3.0\n",
            "    Uninstalling tensorflow-2.3.0:\n",
            "      Successfully uninstalled tensorflow-2.3.0\n",
            "Successfully installed keras-applications-1.0.8 tensorboard-1.12.2 tensorflow-1.12.0\n"
          ],
          "name": "stdout"
        },
        {
          "output_type": "stream",
          "text": [
            "/usr/local/lib/python3.6/dist-packages/tensorflow/python/framework/dtypes.py:523: FutureWarning: Passing (type, 1) or '1type' as a synonym of type is deprecated; in a future version of numpy, it will be understood as (type, (1,)) / '(1,)type'.\n",
            "  _np_qint8 = np.dtype([(\"qint8\", np.int8, 1)])\n",
            "/usr/local/lib/python3.6/dist-packages/tensorflow/python/framework/dtypes.py:524: FutureWarning: Passing (type, 1) or '1type' as a synonym of type is deprecated; in a future version of numpy, it will be understood as (type, (1,)) / '(1,)type'.\n",
            "  _np_quint8 = np.dtype([(\"quint8\", np.uint8, 1)])\n",
            "/usr/local/lib/python3.6/dist-packages/tensorflow/python/framework/dtypes.py:525: FutureWarning: Passing (type, 1) or '1type' as a synonym of type is deprecated; in a future version of numpy, it will be understood as (type, (1,)) / '(1,)type'.\n",
            "  _np_qint16 = np.dtype([(\"qint16\", np.int16, 1)])\n",
            "/usr/local/lib/python3.6/dist-packages/tensorflow/python/framework/dtypes.py:526: FutureWarning: Passing (type, 1) or '1type' as a synonym of type is deprecated; in a future version of numpy, it will be understood as (type, (1,)) / '(1,)type'.\n",
            "  _np_quint16 = np.dtype([(\"quint16\", np.uint16, 1)])\n",
            "/usr/local/lib/python3.6/dist-packages/tensorflow/python/framework/dtypes.py:527: FutureWarning: Passing (type, 1) or '1type' as a synonym of type is deprecated; in a future version of numpy, it will be understood as (type, (1,)) / '(1,)type'.\n",
            "  _np_qint32 = np.dtype([(\"qint32\", np.int32, 1)])\n",
            "/usr/local/lib/python3.6/dist-packages/tensorflow/python/framework/dtypes.py:532: FutureWarning: Passing (type, 1) or '1type' as a synonym of type is deprecated; in a future version of numpy, it will be understood as (type, (1,)) / '(1,)type'.\n",
            "  np_resource = np.dtype([(\"resource\", np.ubyte, 1)])\n"
          ],
          "name": "stderr"
        },
        {
          "output_type": "stream",
          "text": [
            "1.12.0\n"
          ],
          "name": "stdout"
        }
      ]
    },
    {
      "cell_type": "markdown",
      "metadata": {
        "id": "dr7wth_FYdGu"
      },
      "source": [
        "## Mount google drive to access data"
      ]
    },
    {
      "cell_type": "code",
      "metadata": {
        "id": "vkk1ZgZ5-KwW",
        "outputId": "44f77e76-1542-48c1-99c0-89bcb18c4cd4",
        "colab": {
          "base_uri": "https://localhost:8080/"
        }
      },
      "source": [
        "from google.colab import drive\n",
        "drive.mount(\"/content/drive\")"
      ],
      "execution_count": 3,
      "outputs": [
        {
          "output_type": "stream",
          "text": [
            "Mounted at /content/drive\n"
          ],
          "name": "stdout"
        }
      ]
    },
    {
      "cell_type": "markdown",
      "metadata": {
        "id": "sajsjJrlYgOE"
      },
      "source": [
        "## Visualizing sample images of omniglot data from some of the languages"
      ]
    },
    {
      "cell_type": "code",
      "metadata": {
        "id": "ZFY9eDptZvrf",
        "colab": {
          "base_uri": "https://localhost:8080/",
          "height": 122
        },
        "outputId": "8e8d4af2-efb2-42be-9920-ee72da5ba776"
      },
      "source": [
        "Image.open('/content/drive/MyDrive/images_background/Japanese_(katakana)/character13/0608_01.png')"
      ],
      "execution_count": 4,
      "outputs": [
        {
          "output_type": "execute_result",
          "data": {
            "image/png": "[encoded data removed]",
            "text/plain": [
              "<PIL.PngImagePlugin.PngImageFile image mode=1 size=105x105 at 0x7FB54AA5E2B0>"
            ]
          },
          "metadata": {
            "tags": []
          },
          "execution_count": 4
        }
      ]
    },
    {
      "cell_type": "code",
      "metadata": {
        "id": "hEv81Xpv_CwO",
        "outputId": "98b7ee30-117c-4b5a-a0a1-b57e58f6a1d8",
        "colab": {
          "base_uri": "https://localhost:8080/",
          "height": 122
        }
      },
      "source": [
        "Image.open('/content/drive/MyDrive/images_background/Japanese_(katakana)/character13/0608_13.png')"
      ],
      "execution_count": 5,
      "outputs": [
        {
          "output_type": "execute_result",
          "data": {
            "image/png": "[encoded data removed]",
            "text/plain": [
              "<PIL.PngImagePlugin.PngImageFile image mode=1 size=105x105 at 0x7FB55E1AFA58>"
            ]
          },
          "metadata": {
            "tags": []
          },
          "execution_count": 5
        }
      ]
    },
    {
      "cell_type": "code",
      "metadata": {
        "id": "w47GW2aH_IYK",
        "outputId": "a4986a4c-4568-410f-837b-205ae61d7ab6",
        "colab": {
          "base_uri": "https://localhost:8080/",
          "height": 122
        }
      },
      "source": [
        "Image.open('/content/drive/MyDrive/images_background/Sanskrit/character13/0863_09.png')"
      ],
      "execution_count": 6,
      "outputs": [
        {
          "output_type": "execute_result",
          "data": {
            "image/png": "[encoded data removed]",
            "text/plain": [
              "<PIL.PngImagePlugin.PngImageFile image mode=1 size=105x105 at 0x7FB54A1F7400>"
            ]
          },
          "metadata": {
            "tags": []
          },
          "execution_count": 6
        }
      ]
    },
    {
      "cell_type": "code",
      "metadata": {
        "id": "bTL_keLO_QPj",
        "outputId": "c90566a5-422f-4d16-daa4-4ede2e8d4cd2",
        "colab": {
          "base_uri": "https://localhost:8080/",
          "height": 122
        }
      },
      "source": [
        "Image.open('/content/drive/MyDrive/images_background/Sanskrit/character13/0863_13.png')"
      ],
      "execution_count": 7,
      "outputs": [
        {
          "output_type": "execute_result",
          "data": {
            "image/png": "[encoded data removed]",
            "text/plain": [
              "<PIL.PngImagePlugin.PngImageFile image mode=1 size=105x105 at 0x7FB54A1F74A8>"
            ]
          },
          "metadata": {
            "tags": []
          },
          "execution_count": 7
        }
      ]
    },
    {
      "cell_type": "markdown",
      "metadata": {
        "id": "pP7NQTJ8YpBM"
      },
      "source": [
        "## Convert image to numpy array"
      ]
    },
    {
      "cell_type": "code",
      "metadata": {
        "id": "EEc7CtsQ_WOB"
      },
      "source": [
        "image_name = '/content/drive/MyDrive/images_background/Sanskrit/character13/0863_13.png'\n",
        "alphabet, character, rotation = 'Sanskrit/character13/rot000'.split('/')\n",
        "rotation = float(rotation[3:])"
      ],
      "execution_count": 8,
      "outputs": []
    },
    {
      "cell_type": "code",
      "metadata": {
        "id": "ZDWiB3ne_gQx",
        "outputId": "a7137eea-6f2c-46c4-cc2a-ae6e96359084",
        "colab": {
          "base_uri": "https://localhost:8080/"
        }
      },
      "source": [
        "np.array(Image.open(image_name).rotate(rotation).resize((28, 28)), np.float32,copy=True)"
      ],
      "execution_count": 9,
      "outputs": [
        {
          "output_type": "execute_result",
          "data": {
            "text/plain": [
              "array([[1., 1., 1., 1., 1., 1., 1., 1., 1., 1., 1., 1., 1., 1., 1., 1.,\n",
              "        1., 1., 1., 1., 1., 1., 1., 1., 1., 1., 1., 1.],\n",
              "       [1., 1., 1., 1., 1., 1., 1., 1., 1., 1., 1., 1., 1., 1., 1., 1.,\n",
              "        1., 1., 1., 1., 1., 1., 1., 1., 1., 1., 1., 1.],\n",
              "       [1., 1., 1., 1., 1., 1., 1., 1., 1., 1., 1., 1., 1., 1., 1., 1.,\n",
              "        1., 1., 1., 1., 1., 1., 1., 1., 1., 1., 1., 1.],\n",
              "       [1., 1., 1., 1., 1., 1., 1., 1., 1., 1., 1., 1., 1., 1., 1., 1.,\n",
              "        1., 1., 1., 1., 1., 1., 1., 1., 1., 1., 1., 1.],\n",
              "       [1., 1., 1., 1., 1., 1., 1., 1., 1., 1., 1., 1., 1., 1., 1., 1.,\n",
              "        1., 1., 1., 1., 1., 1., 1., 1., 1., 1., 1., 1.],\n",
              "       [1., 1., 1., 1., 1., 1., 1., 1., 1., 1., 1., 1., 1., 1., 1., 1.,\n",
              "        1., 1., 1., 1., 1., 1., 1., 1., 1., 1., 1., 1.],\n",
              "       [1., 1., 1., 1., 1., 1., 1., 1., 1., 1., 1., 1., 1., 1., 1., 1.,\n",
              "        1., 1., 1., 1., 1., 1., 1., 1., 1., 1., 1., 1.],\n",
              "       [1., 1., 1., 1., 1., 1., 0., 0., 0., 0., 0., 0., 0., 0., 0., 0.,\n",
              "        0., 0., 0., 0., 1., 1., 1., 1., 1., 1., 1., 1.],\n",
              "       [1., 1., 1., 1., 1., 0., 0., 0., 0., 0., 0., 0., 0., 0., 0., 0.,\n",
              "        0., 0., 0., 0., 0., 1., 1., 1., 1., 1., 1., 1.],\n",
              "       [1., 1., 1., 1., 1., 1., 1., 1., 1., 1., 1., 1., 1., 1., 0., 0.,\n",
              "        1., 1., 1., 1., 1., 1., 1., 1., 1., 1., 1., 1.],\n",
              "       [1., 1., 1., 1., 1., 1., 1., 1., 1., 1., 1., 0., 0., 0., 0., 0.,\n",
              "        1., 1., 1., 1., 1., 1., 1., 1., 1., 1., 1., 1.],\n",
              "       [1., 1., 1., 1., 1., 1., 1., 1., 1., 0., 0., 0., 1., 1., 1., 1.,\n",
              "        1., 1., 1., 1., 1., 1., 1., 1., 1., 1., 1., 1.],\n",
              "       [1., 1., 1., 1., 1., 1., 1., 0., 0., 0., 1., 1., 1., 1., 1., 1.,\n",
              "        1., 1., 1., 1., 1., 1., 1., 1., 1., 1., 1., 1.],\n",
              "       [1., 1., 1., 1., 1., 1., 1., 0., 1., 1., 1., 1., 1., 1., 1., 1.,\n",
              "        1., 1., 1., 1., 1., 1., 1., 1., 1., 1., 1., 1.],\n",
              "       [1., 1., 1., 1., 1., 1., 1., 0., 0., 0., 0., 0., 0., 0., 0., 1.,\n",
              "        1., 1., 1., 1., 1., 1., 1., 1., 1., 1., 1., 1.],\n",
              "       [1., 1., 1., 1., 1., 1., 1., 1., 1., 1., 1., 1., 1., 1., 1., 0.,\n",
              "        1., 1., 1., 1., 1., 1., 1., 1., 1., 1., 1., 1.],\n",
              "       [1., 1., 1., 1., 1., 1., 1., 1., 1., 1., 1., 1., 1., 1., 1., 0.,\n",
              "        0., 1., 1., 1., 1., 1., 1., 1., 1., 1., 1., 1.],\n",
              "       [1., 1., 1., 1., 1., 1., 1., 1., 1., 0., 1., 1., 1., 1., 1., 0.,\n",
              "        0., 1., 1., 1., 1., 1., 1., 1., 1., 1., 1., 1.],\n",
              "       [1., 1., 1., 1., 1., 1., 1., 1., 1., 0., 0., 1., 1., 1., 0., 0.,\n",
              "        1., 1., 1., 1., 1., 1., 1., 1., 1., 1., 1., 1.],\n",
              "       [1., 1., 1., 1., 1., 1., 1., 1., 1., 1., 0., 0., 0., 0., 1., 1.,\n",
              "        1., 1., 1., 1., 1., 1., 1., 1., 1., 1., 1., 1.],\n",
              "       [1., 1., 1., 1., 1., 1., 1., 1., 1., 1., 1., 1., 1., 1., 1., 1.,\n",
              "        1., 1., 1., 1., 1., 1., 1., 1., 1., 1., 1., 1.],\n",
              "       [1., 1., 1., 1., 1., 1., 1., 1., 1., 1., 1., 1., 1., 1., 1., 1.,\n",
              "        1., 1., 1., 1., 1., 1., 1., 1., 1., 1., 1., 1.],\n",
              "       [1., 1., 1., 1., 1., 1., 1., 1., 1., 1., 1., 1., 1., 1., 1., 1.,\n",
              "        1., 1., 1., 1., 1., 1., 1., 1., 1., 1., 1., 1.],\n",
              "       [1., 1., 1., 1., 1., 1., 1., 1., 1., 1., 1., 1., 1., 1., 1., 1.,\n",
              "        1., 1., 1., 1., 1., 1., 1., 1., 1., 1., 1., 1.],\n",
              "       [1., 1., 1., 1., 1., 1., 1., 1., 1., 1., 1., 1., 1., 1., 1., 1.,\n",
              "        1., 1., 1., 1., 1., 1., 1., 1., 1., 1., 1., 1.],\n",
              "       [1., 1., 1., 1., 1., 1., 1., 1., 1., 1., 1., 1., 1., 1., 1., 1.,\n",
              "        1., 1., 1., 1., 1., 1., 1., 1., 1., 1., 1., 1.],\n",
              "       [1., 1., 1., 1., 1., 1., 1., 1., 1., 1., 1., 1., 1., 1., 1., 1.,\n",
              "        1., 1., 1., 1., 1., 1., 1., 1., 1., 1., 1., 1.],\n",
              "       [1., 1., 1., 1., 1., 1., 1., 1., 1., 1., 1., 1., 1., 1., 1., 1.,\n",
              "        1., 1., 1., 1., 1., 1., 1., 1., 1., 1., 1., 1.]], dtype=float32)"
            ]
          },
          "metadata": {
            "tags": []
          },
          "execution_count": 9
        }
      ]
    },
    {
      "cell_type": "markdown",
      "metadata": {
        "id": "cUY-M__FYymd"
      },
      "source": [
        "## Load train.txt file to prepare the training data"
      ]
    },
    {
      "cell_type": "code",
      "metadata": {
        "id": "vyk_JVF2CT0-"
      },
      "source": [
        "root_dir = '/content/drive/MyDrive/images_background/'"
      ],
      "execution_count": 10,
      "outputs": []
    },
    {
      "cell_type": "code",
      "metadata": {
        "id": "uE_S65IdChdz"
      },
      "source": [
        "train_split_path = os.path.join(root_dir, 'train.txt')\n",
        "\n",
        "with open(train_split_path, 'r') as train_split:\n",
        "    train_classes = [line.rstrip() for line in train_split.readlines()]"
      ],
      "execution_count": 11,
      "outputs": []
    },
    {
      "cell_type": "markdown",
      "metadata": {
        "id": "Y0tCLqFVY7Dg"
      },
      "source": [
        "## Get the total number of classes"
      ]
    },
    {
      "cell_type": "code",
      "metadata": {
        "id": "vqcDusZ4Cpxi"
      },
      "source": [
        "no_of_classes = len(train_classes)"
      ],
      "execution_count": 12,
      "outputs": []
    },
    {
      "cell_type": "markdown",
      "metadata": {
        "id": "g-0lQbsFY-Pn"
      },
      "source": [
        "## Number of samples and Image dimension "
      ]
    },
    {
      "cell_type": "code",
      "metadata": {
        "id": "cL1uDZe8CufJ"
      },
      "source": [
        "num_examples = 20\n",
        "img_width = 28\n",
        "img_height = 28\n",
        "channels = 1"
      ],
      "execution_count": 13,
      "outputs": []
    },
    {
      "cell_type": "markdown",
      "metadata": {
        "id": "jQJvvsAxZCoL"
      },
      "source": [
        "## Convert all images to numpy arrays"
      ]
    },
    {
      "cell_type": "code",
      "metadata": {
        "id": "CxBgeK2_CvRx"
      },
      "source": [
        "train_dataset = np.zeros([no_of_classes, num_examples, img_height, img_width], dtype=np.float32)"
      ],
      "execution_count": 14,
      "outputs": []
    },
    {
      "cell_type": "code",
      "metadata": {
        "id": "2_BBQZ1sCvUI"
      },
      "source": [
        "for label, name in enumerate(train_classes):\n",
        "    alphabet, character, rotation = name.split('/')\n",
        "    rotation = float(rotation[3:])\n",
        "    img_dir = os.path.join(root_dir, 'data', alphabet, character)\n",
        "    img_files = sorted(glob.glob(os.path.join(img_dir, '*.png')))\n",
        "  \n",
        "    \n",
        "    for index, img_file in enumerate(img_files):\n",
        "        values = 1. - np.array(Image.open(img_file).rotate(rotation).resize((img_width, img_height)), np.float32, copy=False)\n",
        "        train_dataset[label, index] = values"
      ],
      "execution_count": 15,
      "outputs": []
    },
    {
      "cell_type": "code",
      "metadata": {
        "id": "ku5N4Bs2CvWX",
        "outputId": "b6f4b5d9-9950-4934-8641-99e43ca46d46",
        "colab": {
          "base_uri": "https://localhost:8080/"
        }
      },
      "source": [
        "train_dataset.shape"
      ],
      "execution_count": 16,
      "outputs": [
        {
          "output_type": "execute_result",
          "data": {
            "text/plain": [
              "(4112, 20, 28, 28)"
            ]
          },
          "metadata": {
            "tags": []
          },
          "execution_count": 16
        }
      ]
    },
    {
      "cell_type": "markdown",
      "metadata": {
        "id": "CnAID8-0x9UY"
      },
      "source": [
        "## Convolution Block"
      ]
    },
    {
      "cell_type": "code",
      "metadata": {
        "id": "aFTV8RnvC31V"
      },
      "source": [
        "def convolution_block(inputs, out_channels, name='conv'):\n",
        "\n",
        "    conv = tf.layers.conv2d(inputs, out_channels, kernel_size=3, padding='SAME')\n",
        "    conv = tf.contrib.layers.batch_norm(conv, updates_collections=None, decay=0.99, scale=True, center=True)\n",
        "    conv = tf.nn.relu(conv)\n",
        "    conv = tf.contrib.layers.max_pool2d(conv, 2)\n",
        "    \n",
        "    return conv"
      ],
      "execution_count": 17,
      "outputs": []
    },
    {
      "cell_type": "markdown",
      "metadata": {
        "id": "KfGm94QOyBUB"
      },
      "source": [
        "## Utility function to get embeddings"
      ]
    },
    {
      "cell_type": "code",
      "metadata": {
        "id": "vFZ_WOEnC5fK"
      },
      "source": [
        "def get_embeddings(support_set, h_dim, z_dim, reuse=False):\n",
        "\n",
        "        net = convolution_block(support_set, h_dim)\n",
        "        net = convolution_block(net, h_dim)\n",
        "        net = convolution_block(net, h_dim) \n",
        "        net = convolution_block(net, z_dim) \n",
        "        net = tf.contrib.layers.flatten(net)\n",
        "        \n",
        "        return net"
      ],
      "execution_count": 18,
      "outputs": []
    },
    {
      "cell_type": "markdown",
      "metadata": {
        "id": "wFccUPoOyaGo"
      },
      "source": [
        "## We know that we are not going to use the entire sample for training as this is a n-way k-shot learning (few shot learning). N be 60 and k be 5."
      ]
    },
    {
      "cell_type": "code",
      "metadata": {
        "id": "qYiL71q-C8xd"
      },
      "source": [
        "#number of classes\n",
        "num_way = 60  \n",
        "\n",
        "#number of examples per class for support set\n",
        "num_shot = 5  \n",
        "\n",
        "#number of query points\n",
        "num_query = 5 \n",
        "\n",
        "#number of examples\n",
        "num_examples = 20\n",
        "\n",
        "h_dim = 64\n",
        "z_dim = 64"
      ],
      "execution_count": 19,
      "outputs": []
    },
    {
      "cell_type": "markdown",
      "metadata": {
        "id": "HAcKmEIgytUJ"
      },
      "source": [
        "## Prepare support set and query set"
      ]
    },
    {
      "cell_type": "code",
      "metadata": {
        "id": "1_RhXeYsDACH"
      },
      "source": [
        "support_set = tf.placeholder(tf.float32, [None, None, img_height, img_width, channels])\n",
        "query_set = tf.placeholder(tf.float32, [None, None, img_height, img_width, channels])"
      ],
      "execution_count": 20,
      "outputs": []
    },
    {
      "cell_type": "code",
      "metadata": {
        "id": "NvioZUTMDnoL"
      },
      "source": [
        "support_set_shape = tf.shape(support_set)\n",
        "query_set_shape = tf.shape(query_set)"
      ],
      "execution_count": 21,
      "outputs": []
    },
    {
      "cell_type": "code",
      "metadata": {
        "id": "e9ARkgKIDo4o"
      },
      "source": [
        "num_classes, num_support_points = support_set_shape[0], support_set_shape[1]"
      ],
      "execution_count": 22,
      "outputs": []
    },
    {
      "cell_type": "code",
      "metadata": {
        "id": "BnKyKLXaDo65"
      },
      "source": [
        "num_query_points = query_set_shape[1]"
      ],
      "execution_count": 23,
      "outputs": []
    },
    {
      "cell_type": "markdown",
      "metadata": {
        "id": "fEm2C7W5y1cJ"
      },
      "source": [
        "## Convert the lable one-hot encoded vector"
      ]
    },
    {
      "cell_type": "code",
      "metadata": {
        "id": "sqykG4o6Do9S"
      },
      "source": [
        "y = tf.placeholder(tf.int64, [None, None])\n",
        "y_one_hot = tf.one_hot(y, depth=num_classes)"
      ],
      "execution_count": 24,
      "outputs": []
    },
    {
      "cell_type": "code",
      "metadata": {
        "id": "f7c-iCZXDo_I"
      },
      "source": [
        "support_set_embeddings = get_embeddings(tf.reshape(support_set, [num_classes * num_support_points, img_height, img_width, channels]), h_dim, z_dim)"
      ],
      "execution_count": 25,
      "outputs": []
    },
    {
      "cell_type": "code",
      "metadata": {
        "id": "mbk-9uePDpBi"
      },
      "source": [
        "embedding_dimension = tf.shape(support_set_embeddings)[-1]\n",
        "class_prototype = tf.reduce_mean(tf.reshape(support_set_embeddings, [num_classes, num_support_points, embedding_dimension]), axis=1)"
      ],
      "execution_count": 26,
      "outputs": []
    },
    {
      "cell_type": "code",
      "metadata": {
        "id": "gyuKcF0anJg6"
      },
      "source": [
        "query_set_embeddings = get_embeddings(tf.reshape(query_set, [num_classes * num_query_points, img_height, img_width, channels]), h_dim, z_dim, reuse=True)"
      ],
      "execution_count": 27,
      "outputs": []
    },
    {
      "cell_type": "markdown",
      "metadata": {
        "id": "ifBTEJhQy_aZ"
      },
      "source": [
        "## Utility function to calculate Eucledian distance"
      ]
    },
    {
      "cell_type": "code",
      "metadata": {
        "id": "WnXdwsYJnMn5"
      },
      "source": [
        "def euclidean_distance(a, b):\n",
        "    N, D = tf.shape(a)[0], tf.shape(a)[1]\n",
        "    M = tf.shape(b)[0]\n",
        "    a = tf.tile(tf.expand_dims(a, axis=1), (1, M, 1))\n",
        "    b = tf.tile(tf.expand_dims(b, axis=0), (N, 1, 1))\n",
        "    return tf.reduce_mean(tf.square(a - b), axis=2)"
      ],
      "execution_count": 28,
      "outputs": []
    },
    {
      "cell_type": "markdown",
      "metadata": {
        "id": "IVXDjpcS0Mm8"
      },
      "source": [
        "## Calculate the distance between the class prototype and query set embeddings:\n"
      ]
    },
    {
      "cell_type": "code",
      "metadata": {
        "id": "6e3oh4nknPhr"
      },
      "source": [
        "distance = euclidean_distance(class_prototype,query_set_embeddings)"
      ],
      "execution_count": 29,
      "outputs": []
    },
    {
      "cell_type": "markdown",
      "metadata": {
        "id": "3Gl-Vh9R0TAA"
      },
      "source": [
        "## Get predicted probability as a softmax of distance"
      ]
    },
    {
      "cell_type": "code",
      "metadata": {
        "id": "3zDYb2NqnSaC"
      },
      "source": [
        "predicted_probability = tf.reshape(tf.nn.log_softmax(-distance), [num_classes, num_query_points, -1])"
      ],
      "execution_count": 30,
      "outputs": []
    },
    {
      "cell_type": "markdown",
      "metadata": {
        "id": "BgXxIWpP1U-6"
      },
      "source": [
        "## Claculate loss"
      ]
    },
    {
      "cell_type": "code",
      "metadata": {
        "id": "97QaHQYKnU_9"
      },
      "source": [
        "loss = -tf.reduce_mean(tf.reshape(tf.reduce_sum(tf.multiply(y_one_hot, predicted_probability), axis=-1), [-1]))"
      ],
      "execution_count": 31,
      "outputs": []
    },
    {
      "cell_type": "markdown",
      "metadata": {
        "id": "U-7WjX9a1WsL"
      },
      "source": [
        "## Calculate accuracy"
      ]
    },
    {
      "cell_type": "code",
      "metadata": {
        "id": "9ZLU4yVQnXJT"
      },
      "source": [
        "accuracy = tf.reduce_mean(tf.to_float(tf.equal(tf.argmax(predicted_probability, axis=-1), y)))"
      ],
      "execution_count": 32,
      "outputs": []
    },
    {
      "cell_type": "markdown",
      "metadata": {
        "id": "9oUUiqvw1arW"
      },
      "source": [
        "## Adam Optimizer"
      ]
    },
    {
      "cell_type": "code",
      "metadata": {
        "id": "6iC1zbc1nZsX"
      },
      "source": [
        "train = tf.train.AdamOptimizer().minimize(loss)"
      ],
      "execution_count": 33,
      "outputs": []
    },
    {
      "cell_type": "markdown",
      "metadata": {
        "id": "s4Bgka5d1dKy"
      },
      "source": [
        "## Weight initialization"
      ]
    },
    {
      "cell_type": "code",
      "metadata": {
        "id": "JGUR1CuvncC5"
      },
      "source": [
        "sess = tf.InteractiveSession()\n",
        "init = tf.global_variables_initializer()\n",
        "sess.run(init)"
      ],
      "execution_count": 34,
      "outputs": []
    },
    {
      "cell_type": "markdown",
      "metadata": {
        "id": "5nXcfByb1ijD"
      },
      "source": [
        "## Model hyper-parameters"
      ]
    },
    {
      "cell_type": "code",
      "metadata": {
        "id": "BJEmxSG2neZF"
      },
      "source": [
        "num_epochs = 5\n",
        "num_episodes = 100"
      ],
      "execution_count": 35,
      "outputs": []
    },
    {
      "cell_type": "markdown",
      "metadata": {
        "id": "PUF_lyL11JXv"
      },
      "source": [
        "## Training"
      ]
    },
    {
      "cell_type": "code",
      "metadata": {
        "id": "-k2LeGlRnlHG",
        "outputId": "ff2a1b75-27e6-41d4-c24b-e1f93bf8c198",
        "colab": {
          "base_uri": "https://localhost:8080/"
        }
      },
      "source": [
        "for epoch in range(num_epochs):\n",
        "    \n",
        "    for episode in range(num_episodes):\n",
        "        \n",
        "        # select 60 classes\n",
        "        episodic_classes = np.random.permutation(no_of_classes)[:num_way]\n",
        "        \n",
        "        support = np.zeros([num_way, num_shot, img_height, img_width], dtype=np.float32)\n",
        "        \n",
        "        query = np.zeros([num_way, num_query, img_height, img_width], dtype=np.float32)\n",
        "        \n",
        "        \n",
        "        for index, class_ in enumerate(episodic_classes):\n",
        "            selected = np.random.permutation(num_examples)[:num_shot + num_query]\n",
        "            support[index] = train_dataset[class_, selected[:num_shot]]\n",
        "            \n",
        "            # 5 querypoints per classs\n",
        "            query[index] = train_dataset[class_, selected[num_shot:]]\n",
        "            \n",
        "        support = np.expand_dims(support, axis=-1)\n",
        "        query = np.expand_dims(query, axis=-1)\n",
        "        labels = np.tile(np.arange(num_way)[:, np.newaxis], (1, num_query)).astype(np.uint8)\n",
        "        _, loss_, accuracy_ = sess.run([train, loss, accuracy], feed_dict={support_set: support, query_set: query, y:labels})\n",
        "        \n",
        "        if (episode+1) % 10 == 0:\n",
        "            print('Epoch {} : Episode {} : Loss: {}, Accuracy: {}'.format(epoch+1, episode+1, loss_, accuracy_))"
      ],
      "execution_count": 36,
      "outputs": [
        {
          "output_type": "stream",
          "text": [
            "Epoch 1 : Episode 10 : Loss: 5.703781604766846, Accuracy: 0.01666666753590107\n",
            "Epoch 1 : Episode 20 : Loss: 5.703781604766846, Accuracy: 0.01666666753590107\n",
            "Epoch 1 : Episode 30 : Loss: 5.703781604766846, Accuracy: 0.01666666753590107\n",
            "Epoch 1 : Episode 40 : Loss: 5.703781604766846, Accuracy: 0.01666666753590107\n",
            "Epoch 1 : Episode 50 : Loss: 5.703781604766846, Accuracy: 0.01666666753590107\n",
            "Epoch 1 : Episode 60 : Loss: 5.703781604766846, Accuracy: 0.01666666753590107\n",
            "Epoch 1 : Episode 70 : Loss: 5.703781604766846, Accuracy: 0.01666666753590107\n",
            "Epoch 1 : Episode 80 : Loss: 5.703781604766846, Accuracy: 0.01666666753590107\n",
            "Epoch 1 : Episode 90 : Loss: 5.703781604766846, Accuracy: 0.01666666753590107\n",
            "Epoch 1 : Episode 100 : Loss: 5.703781604766846, Accuracy: 0.01666666753590107\n",
            "Epoch 2 : Episode 10 : Loss: 5.703781604766846, Accuracy: 0.01666666753590107\n",
            "Epoch 2 : Episode 20 : Loss: 5.703781604766846, Accuracy: 0.01666666753590107\n",
            "Epoch 2 : Episode 30 : Loss: 5.703781604766846, Accuracy: 0.01666666753590107\n",
            "Epoch 2 : Episode 40 : Loss: 5.703781604766846, Accuracy: 0.01666666753590107\n",
            "Epoch 2 : Episode 50 : Loss: 5.703781604766846, Accuracy: 0.01666666753590107\n",
            "Epoch 2 : Episode 60 : Loss: 5.703781604766846, Accuracy: 0.01666666753590107\n",
            "Epoch 2 : Episode 70 : Loss: 5.703781604766846, Accuracy: 0.01666666753590107\n",
            "Epoch 2 : Episode 80 : Loss: 5.703781604766846, Accuracy: 0.01666666753590107\n",
            "Epoch 2 : Episode 90 : Loss: 5.703781604766846, Accuracy: 0.01666666753590107\n",
            "Epoch 2 : Episode 100 : Loss: 5.703781604766846, Accuracy: 0.01666666753590107\n",
            "Epoch 3 : Episode 10 : Loss: 5.703781604766846, Accuracy: 0.01666666753590107\n",
            "Epoch 3 : Episode 20 : Loss: 5.703781604766846, Accuracy: 0.01666666753590107\n",
            "Epoch 3 : Episode 30 : Loss: 5.703781604766846, Accuracy: 0.01666666753590107\n",
            "Epoch 3 : Episode 40 : Loss: 5.703781604766846, Accuracy: 0.01666666753590107\n",
            "Epoch 3 : Episode 50 : Loss: 5.703781604766846, Accuracy: 0.01666666753590107\n",
            "Epoch 3 : Episode 60 : Loss: 5.703781604766846, Accuracy: 0.01666666753590107\n",
            "Epoch 3 : Episode 70 : Loss: 5.703781604766846, Accuracy: 0.01666666753590107\n",
            "Epoch 3 : Episode 80 : Loss: 5.703781604766846, Accuracy: 0.01666666753590107\n",
            "Epoch 3 : Episode 90 : Loss: 5.703781604766846, Accuracy: 0.01666666753590107\n",
            "Epoch 3 : Episode 100 : Loss: 5.703781604766846, Accuracy: 0.01666666753590107\n",
            "Epoch 4 : Episode 10 : Loss: 5.703781604766846, Accuracy: 0.01666666753590107\n",
            "Epoch 4 : Episode 20 : Loss: 5.703781604766846, Accuracy: 0.01666666753590107\n",
            "Epoch 4 : Episode 30 : Loss: 5.703781604766846, Accuracy: 0.01666666753590107\n",
            "Epoch 4 : Episode 40 : Loss: 5.703781604766846, Accuracy: 0.01666666753590107\n",
            "Epoch 4 : Episode 50 : Loss: 5.703781604766846, Accuracy: 0.01666666753590107\n",
            "Epoch 4 : Episode 60 : Loss: 5.703781604766846, Accuracy: 0.01666666753590107\n",
            "Epoch 4 : Episode 70 : Loss: 5.703781604766846, Accuracy: 0.01666666753590107\n",
            "Epoch 4 : Episode 80 : Loss: 5.703781604766846, Accuracy: 0.01666666753590107\n",
            "Epoch 4 : Episode 90 : Loss: 5.703781604766846, Accuracy: 0.01666666753590107\n",
            "Epoch 4 : Episode 100 : Loss: 5.703781604766846, Accuracy: 0.01666666753590107\n",
            "Epoch 5 : Episode 10 : Loss: 5.703781604766846, Accuracy: 0.01666666753590107\n",
            "Epoch 5 : Episode 20 : Loss: 5.703781604766846, Accuracy: 0.01666666753590107\n",
            "Epoch 5 : Episode 30 : Loss: 5.703781604766846, Accuracy: 0.01666666753590107\n",
            "Epoch 5 : Episode 40 : Loss: 5.703781604766846, Accuracy: 0.01666666753590107\n",
            "Epoch 5 : Episode 50 : Loss: 5.703781604766846, Accuracy: 0.01666666753590107\n",
            "Epoch 5 : Episode 60 : Loss: 5.703781604766846, Accuracy: 0.01666666753590107\n",
            "Epoch 5 : Episode 70 : Loss: 5.703781604766846, Accuracy: 0.01666666753590107\n",
            "Epoch 5 : Episode 80 : Loss: 5.703781604766846, Accuracy: 0.01666666753590107\n",
            "Epoch 5 : Episode 90 : Loss: 5.703781604766846, Accuracy: 0.01666666753590107\n",
            "Epoch 5 : Episode 100 : Loss: 5.703781604766846, Accuracy: 0.01666666753590107\n"
          ],
          "name": "stdout"
        }
      ]
    }
  ]
}